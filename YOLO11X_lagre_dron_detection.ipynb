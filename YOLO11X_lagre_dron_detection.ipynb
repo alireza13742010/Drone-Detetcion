{
  "nbformat": 4,
  "nbformat_minor": 0,
  "metadata": {
    "colab": {
      "provenance": []
    },
    "kernelspec": {
      "name": "python3",
      "display_name": "Python 3"
    },
    "language_info": {
      "name": "python"
    }
  },
  "cells": [
    {
      "cell_type": "code",
      "execution_count": null,
      "metadata": {
        "id": "B0B_jjOKGf00"
      },
      "outputs": [],
      "source": [
        "!nvidia-smi"
      ]
    },
    {
      "cell_type": "code",
      "source": [
        "import ultralytics\n",
        "ultralytics.checks()"
      ],
      "metadata": {
        "colab": {
          "base_uri": "https://localhost:8080/"
        },
        "id": "kZkNdwviH6V_",
        "outputId": "2af7281d-1396-4640-d7a9-15e692435ec2"
      },
      "execution_count": null,
      "outputs": [
        {
          "output_type": "stream",
          "name": "stdout",
          "text": [
            "Ultralytics 8.3.5 🚀 Python-3.12.2 torch-2.3.1+cu118 CUDA:0 (NVIDIA GeForce RTX 3090, 24252MiB)\n",
            "Setup complete ✅ (20 CPUs, 62.6 GB RAM, 202.3/273.1 GB disk)\n"
          ]
        }
      ]
    },
    {
      "cell_type": "code",
      "source": [
        "from ultralytics import YOLO\n",
        "from IPython.display import Image"
      ],
      "metadata": {
        "id": "bg_XHGheH85D"
      },
      "execution_count": null,
      "outputs": []
    },
    {
      "cell_type": "code",
      "source": [
        "!pip3 install --upgrade \"jax[cuda12]\"==0.4.28"
      ],
      "metadata": {
        "colab": {
          "base_uri": "https://localhost:8080/"
        },
        "id": "aPql91kS0upr",
        "outputId": "c054a832-fb4f-4bca-a66b-d9f3043ecb35"
      },
      "execution_count": null,
      "outputs": [
        {
          "output_type": "stream",
          "name": "stdout",
          "text": [
            "Requirement already satisfied: jax==0.4.28 in ./miniconda3/lib/python3.12/site-packages (from jax[cuda12]==0.4.28) (0.4.28)\n",
            "Requirement already satisfied: ml-dtypes>=0.2.0 in ./miniconda3/lib/python3.12/site-packages (from jax==0.4.28->jax[cuda12]==0.4.28) (0.3.2)\n",
            "Requirement already satisfied: numpy>=1.22 in ./miniconda3/lib/python3.12/site-packages (from jax==0.4.28->jax[cuda12]==0.4.28) (1.26.3)\n",
            "Requirement already satisfied: opt-einsum in ./miniconda3/lib/python3.12/site-packages (from jax==0.4.28->jax[cuda12]==0.4.28) (3.3.0)\n",
            "Requirement already satisfied: scipy>=1.9 in ./miniconda3/lib/python3.12/site-packages (from jax==0.4.28->jax[cuda12]==0.4.28) (1.13.1)\n",
            "Requirement already satisfied: jaxlib==0.4.28 in ./miniconda3/lib/python3.12/site-packages (from jax[cuda12]==0.4.28) (0.4.28)\n",
            "Requirement already satisfied: jax-cuda12-plugin==0.4.28 in ./miniconda3/lib/python3.12/site-packages (from jax[cuda12]==0.4.28) (0.4.28)\n",
            "Requirement already satisfied: nvidia-cublas-cu12>=12.1.3.1 in ./miniconda3/lib/python3.12/site-packages (from jax[cuda12]==0.4.28) (12.3.4.1)\n",
            "Requirement already satisfied: nvidia-cuda-cupti-cu12>=12.1.105 in ./miniconda3/lib/python3.12/site-packages (from jax[cuda12]==0.4.28) (12.3.101)\n",
            "Requirement already satisfied: nvidia-cuda-nvcc-cu12>=12.1.105 in ./miniconda3/lib/python3.12/site-packages (from jax[cuda12]==0.4.28) (12.3.107)\n",
            "Requirement already satisfied: nvidia-cuda-runtime-cu12>=12.1.105 in ./miniconda3/lib/python3.12/site-packages (from jax[cuda12]==0.4.28) (12.3.101)\n",
            "Requirement already satisfied: nvidia-cudnn-cu12<9.0,>=8.9.2.26 in ./miniconda3/lib/python3.12/site-packages (from jax[cuda12]==0.4.28) (8.9.7.29)\n",
            "Requirement already satisfied: nvidia-cufft-cu12>=11.0.2.54 in ./miniconda3/lib/python3.12/site-packages (from jax[cuda12]==0.4.28) (11.0.12.1)\n",
            "Requirement already satisfied: nvidia-cusolver-cu12>=11.4.5.107 in ./miniconda3/lib/python3.12/site-packages (from jax[cuda12]==0.4.28) (11.5.4.101)\n",
            "Requirement already satisfied: nvidia-cusparse-cu12>=12.1.0.106 in ./miniconda3/lib/python3.12/site-packages (from jax[cuda12]==0.4.28) (12.2.0.103)\n",
            "Requirement already satisfied: nvidia-nccl-cu12>=2.18.1 in ./miniconda3/lib/python3.12/site-packages (from jax[cuda12]==0.4.28) (2.19.3)\n",
            "Requirement already satisfied: nvidia-nvjitlink-cu12>=12.1.105 in ./miniconda3/lib/python3.12/site-packages (from jax[cuda12]==0.4.28) (12.3.101)\n",
            "Requirement already satisfied: jax-cuda12-pjrt==0.4.28 in ./miniconda3/lib/python3.12/site-packages (from jax-cuda12-plugin==0.4.28->jax[cuda12]==0.4.28) (0.4.28)\n",
            "Requirement already satisfied: nvidia-cuda-nvrtc-cu12 in ./miniconda3/lib/python3.12/site-packages (from nvidia-cudnn-cu12<9.0,>=8.9.2.26->jax[cuda12]==0.4.28) (12.3.107)\n"
          ]
        }
      ]
    },
    {
      "cell_type": "code",
      "source": [
        "!yolo task=detect mode=train data=/home/avidmech/IP_Proj_2-Quadcopter/data.yaml model=\"yolo11x.pt\" epochs=120 imgsz=640 batch=16"
      ],
      "metadata": {
        "colab": {
          "base_uri": "https://localhost:8080/"
        },
        "id": "SPKpMLFE0zeX",
        "outputId": "f0aa6f50-41f5-4756-80aa-65fa2dd0758c"
      },
      "execution_count": null,
      "outputs": [
        {
          "output_type": "stream",
          "name": "stdout",
          "text": [
            "Ultralytics 8.3.5 🚀 Python-3.12.2 torch-2.3.1+cu118 CUDA:0 (NVIDIA GeForce RTX 3090, 24252MiB)\n",
            "\u001b[34m\u001b[1mengine/trainer: \u001b[0mtask=detect, mode=train, model=yolo11x.pt, data=/home/avidmech/IP_Proj_2-Quadcopter/data.yaml, epochs=120, time=None, patience=100, batch=16, imgsz=640, save=True, save_period=-1, cache=False, device=None, workers=8, project=None, name=train2, exist_ok=False, pretrained=True, optimizer=auto, verbose=True, seed=0, deterministic=True, single_cls=False, rect=False, cos_lr=False, close_mosaic=10, resume=False, amp=True, fraction=1.0, profile=False, freeze=None, multi_scale=False, overlap_mask=True, mask_ratio=4, dropout=0.0, val=True, split=val, save_json=False, save_hybrid=False, conf=None, iou=0.7, max_det=300, half=False, dnn=False, plots=True, source=None, vid_stride=1, stream_buffer=False, visualize=False, augment=False, agnostic_nms=False, classes=None, retina_masks=False, embed=None, show=False, save_frames=False, save_txt=False, save_conf=False, save_crop=False, show_labels=True, show_conf=True, show_boxes=True, line_width=None, format=torchscript, keras=False, optimize=False, int8=False, dynamic=False, simplify=True, opset=None, workspace=4, nms=False, lr0=0.01, lrf=0.01, momentum=0.937, weight_decay=0.0005, warmup_epochs=3.0, warmup_momentum=0.8, warmup_bias_lr=0.1, box=7.5, cls=0.5, dfl=1.5, pose=12.0, kobj=1.0, label_smoothing=0.0, nbs=64, hsv_h=0.015, hsv_s=0.7, hsv_v=0.4, degrees=0.0, translate=0.1, scale=0.5, shear=0.0, perspective=0.0, flipud=0.0, fliplr=0.5, bgr=0.0, mosaic=1.0, mixup=0.0, copy_paste=0.0, copy_paste_mode=flip, auto_augment=randaugment, erasing=0.4, crop_fraction=1.0, cfg=None, tracker=botsort.yaml, save_dir=runs/detect/train2\n",
            "Overriding model.yaml nc=80 with nc=1\n",
            "\n",
            "                   from  n    params  module                                       arguments                     \n",
            "  0                  -1  1      2784  ultralytics.nn.modules.conv.Conv             [3, 96, 3, 2]                 \n",
            "  1                  -1  1    166272  ultralytics.nn.modules.conv.Conv             [96, 192, 3, 2]               \n",
            "  2                  -1  2    389760  ultralytics.nn.modules.block.C3k2            [192, 384, 2, True, 0.25]     \n",
            "  3                  -1  1   1327872  ultralytics.nn.modules.conv.Conv             [384, 384, 3, 2]              \n",
            "  4                  -1  2   1553664  ultralytics.nn.modules.block.C3k2            [384, 768, 2, True, 0.25]     \n",
            "  5                  -1  1   5309952  ultralytics.nn.modules.conv.Conv             [768, 768, 3, 2]              \n",
            "  6                  -1  2   5022720  ultralytics.nn.modules.block.C3k2            [768, 768, 2, True]           \n",
            "  7                  -1  1   5309952  ultralytics.nn.modules.conv.Conv             [768, 768, 3, 2]              \n",
            "  8                  -1  2   5022720  ultralytics.nn.modules.block.C3k2            [768, 768, 2, True]           \n",
            "  9                  -1  1   1476864  ultralytics.nn.modules.block.SPPF            [768, 768, 5]                 \n",
            " 10                  -1  2   3264768  ultralytics.nn.modules.block.C2PSA           [768, 768, 2]                 \n",
            " 11                  -1  1         0  torch.nn.modules.upsampling.Upsample         [None, 2, 'nearest']          \n",
            " 12             [-1, 6]  1         0  ultralytics.nn.modules.conv.Concat           [1]                           \n",
            " 13                  -1  2   5612544  ultralytics.nn.modules.block.C3k2            [1536, 768, 2, True]          \n",
            " 14                  -1  1         0  torch.nn.modules.upsampling.Upsample         [None, 2, 'nearest']          \n",
            " 15             [-1, 4]  1         0  ultralytics.nn.modules.conv.Concat           [1]                           \n",
            " 16                  -1  2   1700352  ultralytics.nn.modules.block.C3k2            [1536, 384, 2, True]          \n",
            " 17                  -1  1   1327872  ultralytics.nn.modules.conv.Conv             [384, 384, 3, 2]              \n",
            " 18            [-1, 13]  1         0  ultralytics.nn.modules.conv.Concat           [1]                           \n",
            " 19                  -1  2   5317632  ultralytics.nn.modules.block.C3k2            [1152, 768, 2, True]          \n",
            " 20                  -1  1   5309952  ultralytics.nn.modules.conv.Conv             [768, 768, 3, 2]              \n",
            " 21            [-1, 10]  1         0  ultralytics.nn.modules.conv.Concat           [1]                           \n",
            " 22                  -1  2   5612544  ultralytics.nn.modules.block.C3k2            [1536, 768, 2, True]          \n",
            " 23        [16, 19, 22]  1   3146707  ultralytics.nn.modules.head.Detect           [1, [384, 768, 768]]          \n",
            "YOLO11x summary: 631 layers, 56,874,931 parameters, 56,874,915 gradients, 195.4 GFLOPs\n",
            "\n",
            "Transferred 1009/1015 items from pretrained weights\n",
            "\u001b[34m\u001b[1mTensorBoard: \u001b[0mStart with 'tensorboard --logdir runs/detect/train2', view at http://localhost:6006/\n",
            "Freezing layer 'model.23.dfl.conv.weight'\n",
            "\u001b[34m\u001b[1mAMP: \u001b[0mrunning Automatic Mixed Precision (AMP) checks with YOLO11n...\n",
            "\u001b[34m\u001b[1mAMP: \u001b[0mchecks passed ✅\n",
            "\u001b[34m\u001b[1mtrain: \u001b[0mScanning /home/avidmech/IP_Proj_2-Quadcopter/train/labels.cache... 14162 \u001b[0m\n",
            "\u001b[34m\u001b[1mtrain: \u001b[0mWARNING ⚠️ /home/avidmech/IP_Proj_2-Quadcopter/train/images/pic_518_jpg.rf.660961834055737f7bb987cc88ea7488.jpg: 1 duplicate labels removed\n",
            "\u001b[34m\u001b[1mtrain: \u001b[0mWARNING ⚠️ /home/avidmech/IP_Proj_2-Quadcopter/train/images/pic_518_jpg.rf.87f763c4083b5fa9121f8345f42611d2.jpg: 1 duplicate labels removed\n",
            "\u001b[34m\u001b[1mval: \u001b[0mScanning /home/avidmech/IP_Proj_2-Quadcopter/valid/labels.cache... 1800 ima\u001b[0m\n",
            "Plotting labels to runs/detect/train2/labels.jpg... \n",
            "\u001b[34m\u001b[1moptimizer:\u001b[0m 'optimizer=auto' found, ignoring 'lr0=0.01' and 'momentum=0.937' and determining best 'optimizer', 'lr0' and 'momentum' automatically... \n",
            "\u001b[34m\u001b[1moptimizer:\u001b[0m SGD(lr=0.01, momentum=0.9) with parameter groups 167 weight(decay=0.0), 174 weight(decay=0.0005), 173 bias(decay=0.0)\n",
            "\u001b[34m\u001b[1mTensorBoard: \u001b[0mmodel graph visualization added ✅\n",
            "Image sizes 640 train, 640 val\n",
            "Using 8 dataloader workers\n",
            "Logging results to \u001b[1mruns/detect/train2\u001b[0m\n",
            "Starting training for 120 epochs...\n",
            "\n",
            "      Epoch    GPU_mem   box_loss   cls_loss   dfl_loss  Instances       Size\n",
            "      1/120      17.4G      1.358      1.299      1.544          2        640: 1\n",
            "                 Class     Images  Instances      Box(P          R      mAP50  m\n",
            "                   all       1800       1927      0.904      0.867      0.908      0.569\n",
            "\n",
            "      Epoch    GPU_mem   box_loss   cls_loss   dfl_loss  Instances       Size\n",
            "      2/120        17G        1.4      1.047      1.537          4        640: 1\n",
            "                 Class     Images  Instances      Box(P          R      mAP50  m\n",
            "                   all       1800       1927      0.798      0.824      0.839      0.486\n",
            "\n",
            "      Epoch    GPU_mem   box_loss   cls_loss   dfl_loss  Instances       Size\n",
            "      3/120        17G      1.534      1.287      1.648          7        640: 1\n",
            "                 Class     Images  Instances      Box(P          R      mAP50  m\n",
            "                   all       1800       1927      0.653      0.622      0.659      0.356\n",
            "\n",
            "      Epoch    GPU_mem   box_loss   cls_loss   dfl_loss  Instances       Size\n",
            "      4/120      17.1G      1.556      1.357      1.695          1        640: 1\n",
            "                 Class     Images  Instances      Box(P          R      mAP50  m\n",
            "                   all       1800       1927      0.836      0.749      0.836      0.485\n",
            "\n",
            "      Epoch    GPU_mem   box_loss   cls_loss   dfl_loss  Instances       Size\n",
            "      5/120        17G      1.483      1.245      1.651          6        640: 1\n",
            "                 Class     Images  Instances      Box(P          R      mAP50  m\n",
            "                   all       1800       1927      0.812      0.754      0.839      0.484\n",
            "\n",
            "      Epoch    GPU_mem   box_loss   cls_loss   dfl_loss  Instances       Size\n",
            "      6/120      17.2G      1.424      1.148        1.6          2        640: 1\n",
            "                 Class     Images  Instances      Box(P          R      mAP50  m\n",
            "                   all       1800       1927      0.809      0.877      0.882      0.536\n",
            "\n",
            "      Epoch    GPU_mem   box_loss   cls_loss   dfl_loss  Instances       Size\n",
            "      7/120        17G      1.395      1.092      1.583          3        640: 1\n",
            "                 Class     Images  Instances      Box(P          R      mAP50  m\n",
            "                   all       1800       1927       0.82        0.9      0.908      0.582\n",
            "\n",
            "      Epoch    GPU_mem   box_loss   cls_loss   dfl_loss  Instances       Size\n",
            "      8/120      17.1G      1.331      1.039      1.539         33        640:  "
          ]
        }
      ]
    },
    {
      "cell_type": "code",
      "source": [
        "!yolo task=detect mode=val model=\"best.pt\" data=/home/avidmech/IP_Proj_2-Quadcopter/data.yaml"
      ],
      "metadata": {
        "id": "iB0TmGbk2R-N"
      },
      "execution_count": null,
      "outputs": []
    },
    {
      "cell_type": "code",
      "source": [
        "yolo task=detect mode=predict model= best.pt conf=0.25 source=/home/avidmech/IP_Proj_2-Quadcopter/test/images save=True"
      ],
      "metadata": {
        "id": "eXiXY8b62gBq"
      },
      "execution_count": null,
      "outputs": []
    }
  ]
}